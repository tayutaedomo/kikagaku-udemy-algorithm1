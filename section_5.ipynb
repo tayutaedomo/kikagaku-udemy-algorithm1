{
 "cells": [
  {
   "cell_type": "code",
   "execution_count": 1,
   "metadata": {},
   "outputs": [
    {
     "data": {
      "text/plain": [
       "'0000000000000000000000000000000000000011111111111110000000000000000000000000000000000000000000000000000000000000000000000000111111111100000000000000000000000000000000000000000000000000000000000000000000000000001111110000000000000000000000000000000000000000000000000000000000000000000000000000000011111111111111111111111111111111111111111111111111111111111111111000000000000000001100000000000000000000000000000000000000000000000000000000000000000000000000000111111111111111111111111111111111111111111111111111111111111111111111111000000011111111111111111111111111000000000000000000000000000000000000000000000000000111111111111111111111000000000000000000011111111111111111111111111111111111111111111111111111111111111111111111111111111111110000000000001111111111111111111111111111100000000000000000000000000000011111111111111100000000000000000000000000000000000000000000000000011111111111111111111111111111111111111111111111111111111111111111111100000000000000000000000000000000000000000000000000000000'"
      ]
     },
     "execution_count": 1,
     "metadata": {},
     "output_type": "execute_result"
    }
   ],
   "source": [
    "with open('input.txt', 'r') as f:\n",
    "    text = f.read()\n",
    "\n",
    "text[:1000]"
   ]
  },
  {
   "cell_type": "code",
   "execution_count": 2,
   "metadata": {},
   "outputs": [
    {
     "data": {
      "text/plain": [
       "999536"
      ]
     },
     "execution_count": 2,
     "metadata": {},
     "output_type": "execute_result"
    }
   ],
   "source": [
    "len(text)"
   ]
  },
  {
   "cell_type": "code",
   "execution_count": 38,
   "metadata": {},
   "outputs": [
    {
     "name": "stdout",
     "output_type": "stream",
     "text": [
      "False\n"
     ]
    }
   ],
   "source": [
    "def encode_same_chars(chars):\n",
    "    if chars == '':\n",
    "        return ''\n",
    "\n",
    "    char = chars[0]\n",
    "    return char + str(len(chars)).zfill(2)\n",
    "\n",
    "def decode_same_chars(encoded_chars):\n",
    "    if encoded_chars == '':\n",
    "        return ''\n",
    "\n",
    "    char = encoded_chars[0]\n",
    "    length = int(encoded_chars[1:])\n",
    "    return char * length\n",
    "\n",
    "def encode(text):\n",
    "    encoded_text = ''\n",
    "    same_chars = ''\n",
    "\n",
    "    #for char in text[:1000]: # TODO: Partial for debug\n",
    "    for char in text:\n",
    "        #print(char)\n",
    "        if same_chars == '' or same_chars[0] == char:\n",
    "            same_chars += char\n",
    "        else:\n",
    "            #print(same_chars)\n",
    "            #print(encode_same_chars(same_chars))\n",
    "            #print(decode_same_chars(encode_same_chars(same_chars)))\n",
    "            encoded_text += encode_same_chars(same_chars)\n",
    "            same_chars = char\n",
    "\n",
    "    #print(same_chars)\n",
    "    #print(encode_same_chars(same_chars))\n",
    "    #print(decode_same_chars(encode_same_chars(same_chars)))\n",
    "    encoded_text += encode_same_chars(same_chars)\n",
    "    #print(encoded_text)\n",
    "\n",
    "    return encoded_text\n",
    "\n",
    "def decode(encoded_text):\n",
    "    decoded_text = ''\n",
    "    encoded_chars = ''\n",
    "\n",
    "    for char in encoded_text:\n",
    "        if encoded_chars == '' or len(encoded_chars) < 3:\n",
    "            encoded_chars += char\n",
    "        else:\n",
    "            #print(encoded_chars)\n",
    "            #print(decode_same_chars(encoded_chars))\n",
    "            decoded_text += decode_same_chars(encoded_chars)\n",
    "            encoded_chars = char\n",
    "\n",
    "    #print(encoded_chars)\n",
    "    #print(decode_same_chars(encoded_chars))\n",
    "    decoded_text += decode_same_chars(encoded_chars)\n",
    "    return decoded_text\n",
    "\n",
    "\n",
    "encoded_text = encode(text)\n",
    "#print(encoded_text)\n",
    "decoded_text = decode(encoded_text)\n",
    "#print(decoded_text)\n",
    "#print(text[:1000] == decoded_text)\n",
    "print(text == decoded_text)"
   ]
  },
  {
   "cell_type": "code",
   "execution_count": null,
   "metadata": {},
   "outputs": [],
   "source": []
  }
 ],
 "metadata": {
  "kernelspec": {
   "display_name": "Python 3",
   "language": "python",
   "name": "python3"
  },
  "language_info": {
   "codemirror_mode": {
    "name": "ipython",
    "version": 3
   },
   "file_extension": ".py",
   "mimetype": "text/x-python",
   "name": "python",
   "nbconvert_exporter": "python",
   "pygments_lexer": "ipython3",
   "version": "3.7.4"
  }
 },
 "nbformat": 4,
 "nbformat_minor": 4
}
