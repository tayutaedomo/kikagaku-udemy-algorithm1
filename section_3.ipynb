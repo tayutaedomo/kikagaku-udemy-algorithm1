{
 "cells": [
  {
   "cell_type": "code",
   "execution_count": 57,
   "metadata": {},
   "outputs": [],
   "source": [
    "prime_dict = {}\n",
    "\n",
    "def is_prime(num):\n",
    "    if prime_dict.get(num):\n",
    "        return True\n",
    "    if num == 1:\n",
    "        return True\n",
    "    for n in range(2, num):\n",
    "        #print(n)\n",
    "        if num % n == 0:\n",
    "            return False\n",
    "    prime_dict[num] = True\n",
    "    return True"
   ]
  },
  {
   "cell_type": "code",
   "execution_count": 58,
   "metadata": {},
   "outputs": [
    {
     "name": "stdout",
     "output_type": "stream",
     "text": [
      "CPU times: user 392 ms, sys: 3.68 ms, total: 396 ms\n",
      "Wall time: 396 ms\n"
     ]
    }
   ],
   "source": [
    "%%time\n",
    "#is_prime(23)\n",
    "list = []\n",
    "for num in range(1, 10000+1):\n",
    "    if is_prime(num):\n",
    "        list.append(num)\n",
    "#print(list)"
   ]
  },
  {
   "cell_type": "code",
   "execution_count": null,
   "metadata": {},
   "outputs": [],
   "source": []
  }
 ],
 "metadata": {
  "kernelspec": {
   "display_name": "Python 3",
   "language": "python",
   "name": "python3"
  },
  "language_info": {
   "codemirror_mode": {
    "name": "ipython",
    "version": 3
   },
   "file_extension": ".py",
   "mimetype": "text/x-python",
   "name": "python",
   "nbconvert_exporter": "python",
   "pygments_lexer": "ipython3",
   "version": "3.7.4"
  }
 },
 "nbformat": 4,
 "nbformat_minor": 4
}
